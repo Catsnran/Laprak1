{
  "nbformat": 4,
  "nbformat_minor": 0,
  "metadata": {
    "colab": {
      "provenance": []
    },
    "kernelspec": {
      "name": "python3",
      "display_name": "Python 3"
    },
    "language_info": {
      "name": "python"
    }
  },
  "cells": [
    {
      "cell_type": "code",
      "execution_count": null,
      "metadata": {
        "colab": {
          "base_uri": "https://localhost:8080/"
        },
        "id": "1zXFG9VtlJMU",
        "outputId": "a1e9a088-fdce-47af-8958-a6e8cb1cabc4"
      },
      "outputs": [
        {
          "output_type": "stream",
          "name": "stdout",
          "text": [
            "30\n",
            "70\n"
          ]
        }
      ],
      "source": [
        "def perkalian(a, b):\n",
        "    a = int(a)\n",
        "    b = int(b)\n",
        "    hasil = 0\n",
        "    for i in range(a):\n",
        "        hasil = hasil + b\n",
        "    return hasil\n",
        "\n",
        "print(perkalian(6, 5))\n",
        "print(perkalian(7, 10))"
      ]
    },
    {
      "cell_type": "code",
      "source": [
        "def ganjil(bawah, atas):\n",
        "    bawah = int(bawah)\n",
        "    atas = int(atas)\n",
        "    if bawah < atas:\n",
        "        for i in range(bawah, atas+1):\n",
        "            if i % 2 == 0:\n",
        "                continue\n",
        "            print (i, end=\" \")\n",
        "        print(\" \")\n",
        "    elif bawah > atas:\n",
        "        for i in range(bawah, atas-1, -1):\n",
        "            if i % 2 == 0:\n",
        "                continue\n",
        "            print (i, end=\" \")\n",
        "        print(\" \")\n",
        "\n",
        "ganjil(10,30)\n",
        "ganjil(97,82)"
      ],
      "metadata": {
        "colab": {
          "base_uri": "https://localhost:8080/"
        },
        "id": "vEhdxnFzlT_u",
        "outputId": "73798b67-b26a-4cba-ac33-aa90a558b5de"
      },
      "execution_count": 1,
      "outputs": [
        {
          "output_type": "stream",
          "name": "stdout",
          "text": [
            "11 13 15 17 19 21 23 25 27 29  \n",
            "97 95 93 91 89 87 85 83  \n"
          ]
        }
      ]
    },
    {
      "cell_type": "code",
      "source": [
        "jumlah_matkul= int(input(\"Berapa jumlah mata kuliah yang diambil? \"))\n",
        "total_bobot = 0\n",
        "total_sks = jumlah_matkul*3\n",
        "for i in range(jumlah_matkul):\n",
        "    nilai = str(input(f\"Nilai mata kuliah {i+1}: \"))\n",
        "    if nilai == \"A\":\n",
        "        bobot = 4\n",
        "    elif nilai == \"B\":\n",
        "        bobot = 3\n",
        "    elif nilai == \"C\":\n",
        "        bobot = 2\n",
        "    elif nilai == \"D\":\n",
        "        bobot = 1\n",
        "    total_bobot = total_bobot + bobot * 3\n",
        "hasil = total_bobot / total_sks\n",
        "print(\"Nilai IPS anda semester ini\", f\"{hasil:.2f}\")"
      ],
      "metadata": {
        "id": "927-1ePylZRw",
        "outputId": "8c6bfbb3-911d-4283-ee73-10bfcfb7f107",
        "colab": {
          "base_uri": "https://localhost:8080/"
        }
      },
      "execution_count": null,
      "outputs": [
        {
          "output_type": "stream",
          "name": "stdout",
          "text": [
            "Berapa jumlah mata kuliah yang diambil? 7\n",
            "Nilai mata kuliah 1: A\n",
            "Nilai mata kuliah 2: B\n",
            "Nilai mata kuliah 3: A\n",
            "Nilai mata kuliah 4: A\n",
            "Nilai mata kuliah 5: B\n",
            "Nilai mata kuliah 6: A\n",
            "Nilai mata kuliah 7: A\n",
            "Nilai IPS anda semester ini 3.71\n"
          ]
        }
      ]
    }
  ]
}