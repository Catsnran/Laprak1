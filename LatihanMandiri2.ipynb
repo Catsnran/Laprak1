{
  "nbformat": 4,
  "nbformat_minor": 0,
  "metadata": {
    "colab": {
      "provenance": []
    },
    "kernelspec": {
      "name": "python3",
      "display_name": "Python 3"
    },
    "language_info": {
      "name": "python"
    }
  },
  "cells": [
    {
      "cell_type": "code",
      "execution_count": null,
      "metadata": {
        "colab": {
          "base_uri": "https://localhost:8080/"
        },
        "id": "RXf5ILxd3xzY",
        "outputId": "c3f580ff-7849-4639-fd58-7fda0e613e92"
      },
      "outputs": [
        {
          "output_type": "stream",
          "name": "stdout",
          "text": [
            "Masukkan nilai Body Mass Index yang diharapkan: 25\n",
            "Masukkan tinggi badan anda dalam m: 1.7\n",
            "Berat badan yang diperlukan untuk mencapai BMI 25.0 adalah 72.25 kg\n"
          ]
        }
      ],
      "source": [
        "bmi = float(input(\"Masukkan nilai Body Mass Index yang diharapkan: \"))\n",
        "tinggi = float(input(\"Masukkan tinggi badan anda dalam m: \"))\n",
        "berat= bmi*((tinggi)**2)\n",
        "print(\"Berat badan yang diperlukan untuk mencapai BMI\", bmi, \"adalah\", f\"{berat:.2f}\", \"kg\")"
      ]
    },
    {
      "cell_type": "code",
      "source": [
        "x = int(input(\"Masukkan bilangan bulat untuk x: \"))\n",
        "hasil = (2*(x**3))+(2*x)+(15/x)\n",
        "print(\"Hasil dari fungsi f(x) adalah\", f\"{hasil:.1f}\")"
      ],
      "metadata": {
        "id": "WyrbzSQA6fkk",
        "colab": {
          "base_uri": "https://localhost:8080/"
        },
        "outputId": "2c31a92a-0e3c-44ad-c2f4-e9b5b3b92713"
      },
      "execution_count": null,
      "outputs": [
        {
          "output_type": "stream",
          "name": "stdout",
          "text": [
            "Masukkan bilangan bulat untuk x: 5\n",
            "Hasil dari fungsi f(x) adalah 263.0\n"
          ]
        }
      ]
    },
    {
      "cell_type": "code",
      "source": [
        "gaji = int(input(\"Masukkan gaji per jam yang anda inginkan: \"))\n",
        "jam = int(input(\"Masukkan jumlah jam kerja yang akan dilakukan dalam 1 minggu: \"))\n",
        "pendapatan = gaji * jam * 5\n",
        "print(\"Pendapatan Budi selama libur musim panas sebelum melakukan pembayaran pajak: Rp.\", pendapatan)\n",
        "pendapatan2 = pendapatan - (pendapatan * (14/100))\n",
        "print(\"Pendapatan Budi selama libur musim panas setelah melakukan pembayaran pajak: Rp.\", pendapatan2)\n",
        "pakaian_aksesoris = pendapatan2 * (10/100)\n",
        "print(\"Jumlah uang yang akan Budi habiskan untuk membeli pakaian & aksesoris: Rp.\", pakaian_aksesoris)\n",
        "pendapatan3 = pendapatan2 - pakaian_aksesoris\n",
        "alat_tulis = pendapatan3 * (1/100)\n",
        "print(\"Jumlah uang yang akan Budi habiskan untuk membeli alat tulis: Rp.\", alat_tulis)\n",
        "pendapatan4 = pendapatan3 - alat_tulis\n",
        "sedekah = pendapatan4 * (25/100)\n",
        "print(\"Jumlah uang yang akan Budi sedekahkan: Rp.\", sedekah)\n",
        "yatim = sedekah * (30/100)\n",
        "dhuafa = sedekah - yatim\n",
        "print(\"Jumlah uang yang akan diterima anak yatim: Rp.\", yatim)\n",
        "print(\"Jumlah uang yang akan diterima kaum dhuafa: Rp.\", dhuafa)"
      ],
      "metadata": {
        "colab": {
          "base_uri": "https://localhost:8080/"
        },
        "id": "C5ARSXOJFswg",
        "outputId": "b37339f1-4626-463c-d659-aa73152adbf2"
      },
      "execution_count": null,
      "outputs": [
        {
          "output_type": "stream",
          "name": "stdout",
          "text": [
            "Masukkan gaji per jam yang anda inginkan: 40000\n",
            "Masukkan jumlah jam kerja yang akan dilakukan dalam 1 minggu: 20\n",
            "Pendapatan Budi selama libur musim panas sebelum melakukan pembayaran pajak: Rp. 4000000\n",
            "Pendapatan Budi selama libur musim panas setelah melakukan pembayaran pajak: Rp. 3440000.0\n",
            "Jumlah uang yang akan Budi habiskan untuk membeli pakaian & aksesoris: Rp. 344000.0\n",
            "Jumlah uang yang akan Budi habiskan untuk membeli alat tulis: Rp. 30960.0\n",
            "Jumlah uang yang akan Budi sedekahkan: Rp. 766260.0\n",
            "Jumlah uang yang akan diterima anak yatim: Rp. 229878.0\n",
            "Jumlah uang yang akan diterima kaum dhuafa: Rp. 536382.0\n"
          ]
        }
      ]
    }
  ]
}