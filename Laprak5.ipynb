{
  "nbformat": 4,
  "nbformat_minor": 0,
  "metadata": {
    "colab": {
      "provenance": []
    },
    "kernelspec": {
      "name": "python3",
      "display_name": "Python 3"
    },
    "language_info": {
      "name": "python"
    }
  },
  "cells": [
    {
      "cell_type": "code",
      "execution_count": 1,
      "metadata": {
        "colab": {
          "base_uri": "https://localhost:8080/"
        },
        "id": "AOhYyLputBgv",
        "outputId": "45162fe6-282d-46dd-c8f7-c73f427bfc5a"
      },
      "outputs": [
        {
          "output_type": "stream",
          "name": "stdout",
          "text": [
            "True\n",
            "False\n",
            "False\n",
            "True\n"
          ]
        }
      ],
      "source": [
        "def cek_angka(a, b, c):\n",
        "    a = int(a)\n",
        "    b = int(b)\n",
        "    c = int(c)\n",
        "    if a != b and b != c and a != c:\n",
        "        if a == b + c:\n",
        "            return True\n",
        "        elif b == a + c:\n",
        "            return True\n",
        "        elif c == a + b:\n",
        "            return True\n",
        "        else:\n",
        "            return False\n",
        "    else:\n",
        "        return False\n",
        "\n",
        "print(cek_angka(2, 3, 5))\n",
        "print(cek_angka(2, 2, 4))\n",
        "print(cek_angka(5, 6, 3))\n",
        "print(cek_angka(11, 23, 12))"
      ]
    },
    {
      "cell_type": "code",
      "source": [
        "def cek_digit_belakang(a, b, c):\n",
        "    a = int(a)\n",
        "    b = int(b)\n",
        "    c = int(c)\n",
        "    digitA = a % 10\n",
        "    digitB = b % 10\n",
        "    digitC = c % 10\n",
        "    if digitA == digitB == digitC or digitA == digitB or digitB == digitC or digitA == digitC:\n",
        "        return True\n",
        "    else:\n",
        "        return False\n",
        "print(cek_digit_belakang(30, 20, 18))\n",
        "print(cek_digit_belakang(145, 5, 100))\n",
        "print(cek_digit_belakang(71, 187, 18))\n",
        "print(cek_digit_belakang(1024, 14, 94))\n",
        "print(cek_digit_belakang(53, 8900, 658))"
      ],
      "metadata": {
        "colab": {
          "base_uri": "https://localhost:8080/"
        },
        "id": "z2kjytNStcNL",
        "outputId": "235680c6-33b1-4ffe-8635-c645015bca75"
      },
      "execution_count": 2,
      "outputs": [
        {
          "output_type": "stream",
          "name": "stdout",
          "text": [
            "True\n",
            "True\n",
            "False\n",
            "True\n",
            "False\n"
          ]
        }
      ]
    },
    {
      "cell_type": "code",
      "source": [
        "konversiCelciusKeFahrenheit = lambda celcius : (9/5) * celcius + 32\n",
        "konversiCelciusKeReamur = lambda celcius : 0.8 * celcius\n",
        "print(\"F=\", round(konversiCelciusKeFahrenheit(100)))\n",
        "print(\"R=\", round(konversiCelciusKeReamur(80)))\n",
        "print(\"F=\", round(konversiCelciusKeFahrenheit(0)))"
      ],
      "metadata": {
        "colab": {
          "base_uri": "https://localhost:8080/"
        },
        "id": "an-MmHHEtoDm",
        "outputId": "c9552192-f014-4c6e-d3bb-6e00f18d7bac"
      },
      "execution_count": 3,
      "outputs": [
        {
          "output_type": "stream",
          "name": "stdout",
          "text": [
            "F= 212\n",
            "R= 64\n",
            "F= 32\n"
          ]
        }
      ]
    }
  ]
}