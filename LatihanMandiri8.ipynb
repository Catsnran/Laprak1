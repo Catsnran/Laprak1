{
  "nbformat": 4,
  "nbformat_minor": 0,
  "metadata": {
    "colab": {
      "provenance": []
    },
    "kernelspec": {
      "name": "python3",
      "display_name": "Python 3"
    },
    "language_info": {
      "name": "python"
    }
  },
  "cells": [
    {
      "cell_type": "code",
      "execution_count": 1,
      "metadata": {
        "colab": {
          "base_uri": "https://localhost:8080/"
        },
        "id": "FBTnz2a3yzEC",
        "outputId": "25fb06d8-86db-4eb9-a926-fd5842951430"
      },
      "outputs": [
        {
          "output_type": "stream",
          "name": "stdout",
          "text": [
            "True\n",
            "True\n",
            "True\n",
            "False\n"
          ]
        }
      ],
      "source": [
        "def anagram(kata1, kata2):\n",
        "    if sorted(kata1) == sorted(kata2):\n",
        "        return True\n",
        "    else:\n",
        "        return False\n",
        "\n",
        "print(anagram(\"mata\",\"maat\"))\n",
        "print(anagram(\"mata\",\"atma\"))\n",
        "print(anagram(\"mata\",\"tama\"))\n",
        "print(anagram(\"mata\",\"mait\"))"
      ]
    },
    {
      "cell_type": "code",
      "source": [
        "def frekuensikata(kalimat, kata):\n",
        "    count = 0\n",
        "    kalimat = kalimat.lower()\n",
        "    for teks in kalimat.split(\" \"):\n",
        "        for a in teks:\n",
        "            x = a.isalpha()\n",
        "            if x == False:\n",
        "                teks = teks.replace(a,\"\")\n",
        "            else:\n",
        "                continue\n",
        "        if kata == teks:\n",
        "            count +=1\n",
        "        else:\n",
        "            continue\n",
        "    print(kata,\"ada\",count,\"buah\")\n",
        "\n",
        "\n",
        "frekuensikata(\"Saya mau makan. Makan itu wajib! Mau siang atau malam saya wajib makan\", \"makan\")\n",
        "frekuensikata(\"Saya mau makan. Makan itu wajib! Mau siang atau malam saya wajib makan\", \"saya\")\n",
        "frekuensikata(\"Saya mau makan. Makan itu wajib! Mau siang atau malam saya wajib makan\", \"mau\")"
      ],
      "metadata": {
        "colab": {
          "base_uri": "https://localhost:8080/"
        },
        "id": "1JtI7jA40RqR",
        "outputId": "8bfe8e2c-a514-4971-d763-bca2bcdc28b6"
      },
      "execution_count": 2,
      "outputs": [
        {
          "output_type": "stream",
          "name": "stdout",
          "text": [
            "makan ada 3 buah\n",
            "saya ada 2 buah\n",
            "mau ada 2 buah\n"
          ]
        }
      ]
    },
    {
      "cell_type": "code",
      "source": [
        "def spasilebih(kalimat):\n",
        "    teks = \"\"\n",
        "    for kata in kalimat.split(\" \"):\n",
        "        cekkata = kata.isalpha()\n",
        "        if cekkata == True:\n",
        "           teks += kata + \" \"\n",
        "        else:\n",
        "            continue\n",
        "    teks = teks.strip()\n",
        "    print('\"'+teks+'\"')\n",
        "\n",
        "spasilebih(\"saya  tidak suka  memancing ikan \")\n",
        "spasilebih(\"saya      suka  menjahit       baju   \")"
      ],
      "metadata": {
        "colab": {
          "base_uri": "https://localhost:8080/"
        },
        "id": "esPFne_60ZSl",
        "outputId": "7f9b2725-d7ae-4c54-ff57-690e48fbd2ee"
      },
      "execution_count": 3,
      "outputs": [
        {
          "output_type": "stream",
          "name": "stdout",
          "text": [
            "\"saya tidak suka memancing ikan\"\n",
            "\"saya suka menjahit baju\"\n"
          ]
        }
      ]
    },
    {
      "cell_type": "code",
      "source": [
        "def pendekpanjang(kalimat):\n",
        "    thelist = []\n",
        "    for kata in kalimat.split(\" \"):\n",
        "        thelist.append(kata)\n",
        "    pendek = min(thelist, key=len)\n",
        "    panjang = max(thelist, key=len)\n",
        "    print(\"terpendek:\", pendek)\n",
        "    print(\"terpanjang:\", panjang)\n",
        "\n",
        "pendekpanjang(\"red snakes and a black frog in the pool\")"
      ],
      "metadata": {
        "colab": {
          "base_uri": "https://localhost:8080/"
        },
        "id": "xTzt7Ma20pqP",
        "outputId": "4b281438-31e4-4311-a1da-d5f0e468d21a"
      },
      "execution_count": 4,
      "outputs": [
        {
          "output_type": "stream",
          "name": "stdout",
          "text": [
            "terpendek: a\n",
            "terpanjang: snakes\n"
          ]
        }
      ]
    },
    {
      "cell_type": "code",
      "source": [
        "import re\n",
        "import datetime\n",
        "def tanggal(kalimat):\n",
        "    tgl=re.findall(\"\\d{4}-\\d{2}-\\d{2}\",kalimat)\n",
        "    tgl_now= datetime.date.today()\n",
        "    for i in range(len(tgl)):\n",
        "        tgl1=tgl[i].split(\"-\")\n",
        "        tgl2=datetime.date(int(tgl1[0]),int(tgl1[1]),int(tgl1[2]))\n",
        "        selisih=tgl_now-tgl2\n",
        "        print(tgl[i],\"00:00:00\",\"selisih\",selisih.days,\"hari\")\n",
        "\n",
        "tanggal(\"Pada tanggal 1945-08-17 Indonesia merdeka. Indonesia memiliki beberapa pahlawan nasional, seperti Pangeran Diponegoro (TL: 1785-11-11), Pattimura (TL: 1783-06-08) dan Ki Hajar Dewantara (1889-05-02).\")"
      ],
      "metadata": {
        "colab": {
          "base_uri": "https://localhost:8080/"
        },
        "id": "x-WbPXrS0wn1",
        "outputId": "1595d4fb-ef32-4ab9-8d9a-4490ae82c02c"
      },
      "execution_count": 5,
      "outputs": [
        {
          "output_type": "stream",
          "name": "stdout",
          "text": [
            "1945-08-17 00:00:00 selisih 29108 hari\n",
            "1785-11-11 00:00:00 selisih 87460 hari\n",
            "1783-06-08 00:00:00 selisih 88347 hari\n",
            "1889-05-02 00:00:00 selisih 49668 hari\n"
          ]
        }
      ]
    },
    {
      "cell_type": "code",
      "source": [
        "import re\n",
        "import random\n",
        "import string\n",
        "def generatepass(kalimat):\n",
        "    mail= re.findall(\"[\\w\\.-]+@[\\w\\.-]+\\.\\w+\", kalimat)\n",
        "    usn= re.findall(\"([\\w\\.-]+)@[\\w\\.-]+\", kalimat)\n",
        "    for i in range(len(mail)):\n",
        "        password = lambda: ''.join(random.choices(string.ascii_letters+string.digits,k=8))\n",
        "        print(mail[i],\"username:\",usn[i],\", password:\",password())\n",
        "\n",
        "generatepass(\"\"\"\n",
        "             Berikut adalah daftar email dan nama pengguna dari mailing list:\n",
        "             anton@mail.com dimiliki oleh antonius\n",
        "             budi@gmail.co.id dimiliki oleh budi anwari\n",
        "             slamet@getnada.com dimiliki oleh slamet slumut\n",
        "             matahari@tokopedia.com dimiliki oleh toko matahari\"\"\")"
      ],
      "metadata": {
        "colab": {
          "base_uri": "https://localhost:8080/"
        },
        "id": "sFQC4_DN0z7E",
        "outputId": "a6c7902f-4aa7-4ed1-bcff-4ea19531bf32"
      },
      "execution_count": 6,
      "outputs": [
        {
          "output_type": "stream",
          "name": "stdout",
          "text": [
            "anton@mail.com username: anton , password: O7UWqeLS\n",
            "budi@gmail.co.id username: budi , password: kc1cVDQR\n",
            "slamet@getnada.com username: slamet , password: HJ72dzbe\n",
            "matahari@tokopedia.com username: matahari , password: 4MVcBAYG\n"
          ]
        }
      ]
    }
  ]
}