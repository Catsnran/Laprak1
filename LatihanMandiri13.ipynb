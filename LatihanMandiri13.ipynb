{
  "nbformat": 4,
  "nbformat_minor": 0,
  "metadata": {
    "colab": {
      "provenance": []
    },
    "kernelspec": {
      "name": "python3",
      "display_name": "Python 3"
    },
    "language_info": {
      "name": "python"
    }
  },
  "cells": [
    {
      "cell_type": "code",
      "execution_count": 1,
      "metadata": {
        "colab": {
          "base_uri": "https://localhost:8080/"
        },
        "id": "YrFjhUKPmrzw",
        "outputId": "367736b2-8b0a-457e-c9e1-50a3ccd3936d"
      },
      "outputs": [
        {
          "output_type": "stream",
          "name": "stdout",
          "text": [
            "Masukkan jumlah kategori: 3\n",
            "Masukkan nama kategori: KategoriA\n",
            "Masukkan 5 nama aplikasi di kategori KategoriA\n",
            "Nama aplikasi: app1\n",
            "Nama aplikasi: app2\n",
            "Nama aplikasi: app3\n",
            "Nama aplikasi: app4\n",
            "Nama aplikasi: app5\n",
            "Masukkan nama kategori: KategoriB\n",
            "Masukkan 5 nama aplikasi di kategori KategoriB\n",
            "Nama aplikasi: app2\n",
            "Nama aplikasi: app3\n",
            "Nama aplikasi: app6\n",
            "Nama aplikasi: app7\n",
            "Nama aplikasi: app8\n",
            "Masukkan nama kategori: KategoriC\n",
            "Masukkan 5 nama aplikasi di kategori KategoriC\n",
            "Nama aplikasi: app2\n",
            "Nama aplikasi: app6\n",
            "Nama aplikasi: app9\n",
            "Nama aplikasi: app3\n",
            "Nama aplikasi: app10\n",
            "{'KategoriA': ['app1', 'app2', 'app3', 'app4', 'app5'], 'KategoriB': ['app2', 'app3', 'app6', 'app7', 'app8'], 'KategoriC': ['app2', 'app6', 'app9', 'app3', 'app10']}\n",
            "[{'app2', 'app1', 'app5', 'app3', 'app4'}, {'app2', 'app8', 'app6', 'app3', 'app7'}, {'app2', 'app10', 'app6', 'app3', 'app9'}]\n",
            "Aplikasi yang muncul di semua kategori: {'app2', 'app3'}\n",
            "Aplikasi yang hanya muncul di satu kategori: ['app1', 'app4', 'app5', 'app7', 'app8', 'app9', 'app10']\n",
            "Aplikasi yang muncul tepat di dua kategori: ['app6']\n"
          ]
        }
      ],
      "source": [
        "n = int(input(\"Masukkan jumlah kategori: \"))\n",
        "data_aplikasi={}\n",
        "for i in range(n):\n",
        "    nama_kategori = input(\"Masukkan nama kategori: \")\n",
        "    print(\"Masukkan 5 nama aplikasi di kategori\", nama_kategori)\n",
        "    aplikasi=[]\n",
        "    for j in range(5):\n",
        "        nama_aplikasi = input(\"Nama aplikasi: \")\n",
        "        aplikasi.append(nama_aplikasi)\n",
        "    data_aplikasi[nama_kategori]=aplikasi\n",
        "print(data_aplikasi)\n",
        "daftar_aplikasi_list=[]\n",
        "for aplikasi in data_aplikasi.values():\n",
        "    daftar_aplikasi_list.append(set(aplikasi))\n",
        "print(daftar_aplikasi_list)\n",
        "hasil = daftar_aplikasi_list[0]\n",
        "for i in range(1, len(daftar_aplikasi_list)):\n",
        "    hasil = hasil.intersection(daftar_aplikasi_list[i])\n",
        "print(f\"Aplikasi yang muncul di semua kategori: {hasil}\")\n",
        "frekuensi = {}\n",
        "for aplikasi_kategori in data_aplikasi.values():\n",
        "    for app in aplikasi_kategori:\n",
        "        if app in frekuensi:\n",
        "            frekuensi[app] += 1\n",
        "        else:\n",
        "            frekuensi[app] = 1\n",
        "unik_satu_kategori = []\n",
        "for app in frekuensi:\n",
        "    if frekuensi[app] == 1:\n",
        "        unik_satu_kategori.append(app)\n",
        "print(f\"Aplikasi yang hanya muncul di satu kategori: {unik_satu_kategori}\")\n",
        "if n > 2:\n",
        "    dua_kategori = []\n",
        "    for app in frekuensi:\n",
        "        if frekuensi[app] == 2:\n",
        "            dua_kategori.append(app)\n",
        "    print(f\"Aplikasi yang muncul tepat di dua kategori: {dua_kategori}\")"
      ]
    },
    {
      "cell_type": "code",
      "source": [
        "def konversi(data,jenis,target):\n",
        "    if jenis == \"list\":\n",
        "        hasil=set(data)\n",
        "    elif jenis == \"set\":\n",
        "        if target == \"list\":\n",
        "            hasil=list(data)\n",
        "        else:\n",
        "            hasil=tuple(data)\n",
        "    else:\n",
        "        hasil=set(data)\n",
        "    print(\"Sebelum konversi:\",data)\n",
        "    print(\"Sesudah konversi:\",hasil)\n",
        "    print()\n",
        "\n",
        "konversi([1,2,3,4,5],\"list\",\"set\")\n",
        "konversi({1,2,3,4,5},\"set\",\"list\")\n",
        "konversi((1,2,3,4,5),\"tuple\",\"set\")\n",
        "konversi({1,2,3,4,5},\"set\",\"tuple\")"
      ],
      "metadata": {
        "colab": {
          "base_uri": "https://localhost:8080/"
        },
        "id": "2kk6zMiGnuY3",
        "outputId": "b15d9376-3790-4b9b-d3fb-3d70d564546f"
      },
      "execution_count": 2,
      "outputs": [
        {
          "output_type": "stream",
          "name": "stdout",
          "text": [
            "Sebelum konversi: [1, 2, 3, 4, 5]\n",
            "Sesudah konversi: {1, 2, 3, 4, 5}\n",
            "\n",
            "Sebelum konversi: {1, 2, 3, 4, 5}\n",
            "Sesudah konversi: [1, 2, 3, 4, 5]\n",
            "\n",
            "Sebelum konversi: (1, 2, 3, 4, 5)\n",
            "Sesudah konversi: {1, 2, 3, 4, 5}\n",
            "\n",
            "Sebelum konversi: {1, 2, 3, 4, 5}\n",
            "Sesudah konversi: (1, 2, 3, 4, 5)\n",
            "\n"
          ]
        }
      ]
    },
    {
      "cell_type": "code",
      "source": [
        "file1 = input(\"Masukkan nama file pertama: \")\n",
        "file2 = input(\"Masukkan nama file kedua: \")\n",
        "def baca_kata(nama_file):\n",
        "    try:\n",
        "        with open(nama_file, 'r') as file:\n",
        "            isi = file.read()\n",
        "            isi = isi.lower()\n",
        "            kata_kata = isi.split()\n",
        "            return set(kata_kata)\n",
        "    except:\n",
        "        print(f\"Error: File '{nama_file}' tidak ditemukan/tidak bisa dibaca.\")\n",
        "        return None\n",
        "\n",
        "kata_file1 = baca_kata(file1)\n",
        "kata_file2 = baca_kata(file2)\n",
        "\n",
        "if kata_file1 is not None and kata_file2 is not None:\n",
        "    kata_sama = kata_file1.intersection(kata_file2)\n",
        "    print(\"Kata-kata yang muncul pada kedua file:\")\n",
        "    if kata_sama:\n",
        "        for kata in sorted(kata_sama):\n",
        "            print(kata)\n",
        "    else:\n",
        "        print(\"Tidak terdapat kata yang sama di kedua file.\")\n"
      ],
      "metadata": {
        "colab": {
          "base_uri": "https://localhost:8080/"
        },
        "id": "qyXuKBo3nynm",
        "outputId": "b136f316-1263-4761-bef7-673b922a187c"
      },
      "execution_count": 3,
      "outputs": [
        {
          "output_type": "stream",
          "name": "stdout",
          "text": [
            "Masukkan nama file pertama: /content/file13.txt\n",
            "Masukkan nama file kedua: /content/file132.txt\n",
            "Kata-kata yang muncul pada kedua file:\n",
            "aku\n",
            "kau\n",
            "menerima\n"
          ]
        }
      ]
    }
  ]
}