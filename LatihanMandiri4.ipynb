{
  "nbformat": 4,
  "nbformat_minor": 0,
  "metadata": {
    "colab": {
      "provenance": []
    },
    "kernelspec": {
      "name": "python3",
      "display_name": "Python 3"
    },
    "language_info": {
      "name": "python"
    }
  },
  "cells": [
    {
      "cell_type": "code",
      "execution_count": 4,
      "metadata": {
        "colab": {
          "base_uri": "https://localhost:8080/"
        },
        "id": "saILlN4FDUi0",
        "outputId": "8966744d-193c-4ba1-e0fe-3a31c02ac92f"
      },
      "outputs": [
        {
          "output_type": "stream",
          "name": "stdout",
          "text": [
            "Masukkan suhu tubuh: tiga puluh enam\n",
            "Input tidak valid, harus dalam bilangan bulat.\n"
          ]
        }
      ],
      "source": [
        "suhu = input(\"Masukkan suhu tubuh: \")\n",
        "try:\n",
        "    suhu = int(suhu)\n",
        "    if suhu >= 38:\n",
        "        print(\"Anda demam.\")\n",
        "    else:\n",
        "        print(\"Anda tidak demam.\")\n",
        "except:\n",
        "    print(\"Input tidak valid, harus dalam bilangan bulat.\")"
      ]
    },
    {
      "cell_type": "code",
      "source": [
        "bilangan = input(\"Masukkan suatu bilangan: \")\n",
        "try:\n",
        "    bilangan = int(bilangan)\n",
        "    if bilangan > 0:\n",
        "        print(\"Positif\")\n",
        "    elif bilangan < 0:\n",
        "        print(\"Negatif\")\n",
        "    elif bilangan == 0:\n",
        "        print(\"Nol\")\n",
        "except:\n",
        "    print(\"Input tidak valid, harus dalam bilangan bulat.\")"
      ],
      "metadata": {
        "colab": {
          "base_uri": "https://localhost:8080/"
        },
        "id": "Ol-9XdYXDqdu",
        "outputId": "29052aaa-8415-405e-e78d-35b2810e40de"
      },
      "execution_count": 3,
      "outputs": [
        {
          "output_type": "stream",
          "name": "stdout",
          "text": [
            "Masukkan suatu bilangan: 30.1\n",
            "Input tidak valid, harus dalam bilangan bulat.\n"
          ]
        }
      ]
    },
    {
      "cell_type": "code",
      "source": [
        "a = input(\"Masukkan bilangan pertama: \")\n",
        "b = input(\"Masukkan bilangan kedua: \")\n",
        "c = input(\"Masukkan bilangan ketiga: \")\n",
        "try:\n",
        "    a = int(a)\n",
        "    b = int(b)\n",
        "    c = int(c)\n",
        "    if a > b and a > c:\n",
        "        print(\"Terbesar:\", a)\n",
        "    elif b > a and b > c:\n",
        "        print(\"Terbesar:\", b)\n",
        "    elif c > a and c > b:\n",
        "        print(\"Terbesar:\", c)\n",
        "    else:\n",
        "        print(\"Terdapat lebih dari 1 bilangan yang terbesar.\")\n",
        "except:\n",
        "    print(\"Input tidak valid, harus dalam bilangan bulat.\")"
      ],
      "metadata": {
        "colab": {
          "base_uri": "https://localhost:8080/"
        },
        "id": "9U8EwV_9E4AS",
        "outputId": "c34b0206-f9cc-425b-dd5d-83f4a338621a"
      },
      "execution_count": 5,
      "outputs": [
        {
          "output_type": "stream",
          "name": "stdout",
          "text": [
            "Masukkan bilangan pertama: lima\n",
            "Masukkan bilangan kedua: 3\n",
            "Masukkan bilangan ketiga: 4\n",
            "Input tidak valid, harus dalam bilangan bulat.\n"
          ]
        }
      ]
    },
    {
      "cell_type": "code",
      "source": [
        "bilangan = input(\"Masukkan suatu bilangan: \")\n",
        "try:\n",
        "    bilangan = int(bilangan)\n",
        "    print(\"Positif\") if bilangan > 0 else print(\"Negatif\") if bilangan < 0 else print(\"Nol\") if bilangan == 0 else print(\"Tidak valid.\")\n",
        "except:\n",
        "    print(\"Input tidak valid, harus dalam bilangan bulat.\")"
      ],
      "metadata": {
        "colab": {
          "base_uri": "https://localhost:8080/"
        },
        "id": "0cfB8aclI08N",
        "outputId": "70102679-fe59-4d99-c01b-b0a446c440c0"
      },
      "execution_count": 6,
      "outputs": [
        {
          "output_type": "stream",
          "name": "stdout",
          "text": [
            "Masukkan suatu bilangan: -70\n",
            "Negatif\n"
          ]
        }
      ]
    },
    {
      "cell_type": "code",
      "source": [
        "bulan = input(\"Masukkan bulan berapa (1-12): \")\n",
        "try:\n",
        "    bulan = int(bulan)\n",
        "    if bulan == 1 or bulan == 3 or bulan == 5 or bulan == 7 or bulan == 8 or bulan == 10 or bulan == 12:\n",
        "        hari=31\n",
        "        print(\"Jumlah hari pada bulan tersebut adalah\", hari, \"hari.\")\n",
        "    elif bulan == 4 or bulan == 6 or bulan == 9 or bulan == 11:\n",
        "        hari=30\n",
        "        print(\"Jumlah hari pada bulan tersebut adalah\", hari, \"hari.\")\n",
        "    elif bulan == 2:\n",
        "        hari=29\n",
        "        print(\"Jumlah hari pada bulan tersebut adalah\", hari, \"hari.\")\n",
        "    else:\n",
        "        print(\"Bulan yang diinput tidak valid.\")\n",
        "except:\n",
        "    print(\"Bulan yang diinput harus dalam angka.\")"
      ],
      "metadata": {
        "colab": {
          "base_uri": "https://localhost:8080/"
        },
        "id": "YGUx2X-UJBXk",
        "outputId": "7831bac3-05e4-42d8-ebe4-8e099804de2c"
      },
      "execution_count": 7,
      "outputs": [
        {
          "output_type": "stream",
          "name": "stdout",
          "text": [
            "Masukkan bulan berapa (1-12): 7\n",
            "Jumlah hari pada bulan tersebut adalah 31 hari.\n"
          ]
        }
      ]
    },
    {
      "cell_type": "code",
      "source": [
        "sisi1 = input(\"Masukkan sisi 1 segitiga: \")\n",
        "sisi2 = input(\"Masukkan sisi 2 segitiga: \")\n",
        "sisi3 = input(\"Masukkan sisi 3 segitiga: \")\n",
        "try:\n",
        "    sisi1 = int(sisi1)\n",
        "    sisi2 = int(sisi2)\n",
        "    sisi3 = int(sisi3)\n",
        "    if sisi1 == sisi2 == sisi3:\n",
        "        print(\"3 sisi sama.\")\n",
        "    elif sisi1 == sisi2 or sisi1 == sisi3 or sisi2 == sisi3:\n",
        "        print(\"2 sisi sama.\")\n",
        "    else:\n",
        "        print(\"Tidak ada yang sama.\")\n",
        "except:\n",
        "    print(\"Input tidak valid, input harus dalam angka.\")"
      ],
      "metadata": {
        "colab": {
          "base_uri": "https://localhost:8080/"
        },
        "id": "okBl92bGJLrQ",
        "outputId": "7304b82b-8a94-416e-aeb9-7ea6f4262109"
      },
      "execution_count": 8,
      "outputs": [
        {
          "output_type": "stream",
          "name": "stdout",
          "text": [
            "Masukkan sisi 1 segitiga: 40\n",
            "Masukkan sisi 2 segitiga: 30\n",
            "Masukkan sisi 3 segitiga: 30\n",
            "2 sisi sama.\n"
          ]
        }
      ]
    }
  ]
}