{
  "nbformat": 4,
  "nbformat_minor": 0,
  "metadata": {
    "colab": {
      "provenance": []
    },
    "kernelspec": {
      "name": "python3",
      "display_name": "Python 3"
    },
    "language_info": {
      "name": "python"
    }
  },
  "cells": [
    {
      "cell_type": "code",
      "execution_count": 1,
      "metadata": {
        "colab": {
          "base_uri": "https://localhost:8080/"
        },
        "id": "HvKYvAgbq-3Q",
        "outputId": "2e1114a3-1aff-41ec-de83-91fd9432b593"
      },
      "outputs": [
        {
          "output_type": "stream",
          "name": "stdout",
          "text": [
            "3 bilangan terbaik: [20, 18, 15]\n",
            "3 bilangan terbaik: [91, 60, 53]\n"
          ]
        }
      ],
      "source": [
        "def terbaik(list):\n",
        "    list.sort()\n",
        "    list.reverse()\n",
        "    print(f\"3 bilangan terbaik: {list[:3]}\")\n",
        "\n",
        "terbaik([10,15,20,18,9,7])\n",
        "terbaik([35,27,60,53,12,91])"
      ]
    },
    {
      "cell_type": "code",
      "source": [
        "test = True\n",
        "list=[]\n",
        "while test == True:\n",
        "    bilangan = input(\"Masukkan bilangan: \")\n",
        "    if bilangan.isdigit() == True:\n",
        "        list.append(int(bilangan))\n",
        "    elif bilangan.lower() == \"done\":\n",
        "        total=sum(list)\n",
        "        panjang=len(list)\n",
        "        rata=total/panjang\n",
        "        print(f\"rata-rata bilangan: {rata}\")\n",
        "        test=False\n",
        "    else:\n",
        "        print('Harus memasukkan bilangan atau kata \"done\"')"
      ],
      "metadata": {
        "colab": {
          "base_uri": "https://localhost:8080/"
        },
        "id": "1bUDU2H2rJVR",
        "outputId": "758f808b-eb3f-46a5-e8a8-f21bc0101050"
      },
      "execution_count": 2,
      "outputs": [
        {
          "output_type": "stream",
          "name": "stdout",
          "text": [
            "Masukkan bilangan: 7\n",
            "Masukkan bilangan: 8\n",
            "Masukkan bilangan: 15\n",
            "Masukkan bilangan: 9\n",
            "Masukkan bilangan: 19\n",
            "Masukkan bilangan: done\n",
            "rata-rata bilangan: 11.6\n"
          ]
        }
      ]
    },
    {
      "cell_type": "code",
      "source": [
        "def kataunik(file):\n",
        "    listnya=[]\n",
        "    count=0\n",
        "    frekuensi={}\n",
        "    tanda=[\"!\",\"?\",\".\",\",\",'\"',\":\",\";\",\"&\",\"*\",\"^\",\"#\",\"$\",\"(\",\")\",\"1\",\"2\",\"3\",\"4\",\"5\",\"6\",\"7\",\"8\",\"9\",\"0\",\"%\"]\n",
        "    with open(file, \"r\") as file:\n",
        "        lines = file.readlines()\n",
        "        for line in lines:\n",
        "            for kata in line.split(\" \"):\n",
        "                kata=kata.lower().strip()\n",
        "                for k in tanda:\n",
        "                    kata=kata.replace(k,\"\")\n",
        "                listnya.append(kata)\n",
        "        for kata in listnya:\n",
        "            if kata in frekuensi:\n",
        "                frekuensi[kata]+=1\n",
        "            else:\n",
        "                frekuensi[kata]=1\n",
        "        unik=[]\n",
        "        for kata in frekuensi:\n",
        "            if frekuensi[kata]==1:\n",
        "                unik.append(kata)\n",
        "        print(f\"Berikut kata-kata unik yang terdapat pada file teks artikel:\")\n",
        "        for i in range(len(unik)):\n",
        "            print(f\"{i+1}. {unik[i]}\")\n",
        "\n",
        "kataunik(\"/content/artikelteh.txt\")"
      ],
      "metadata": {
        "colab": {
          "base_uri": "https://localhost:8080/"
        },
        "id": "gkkkr5dUsSV0",
        "outputId": "d6a6b6a5-cb6b-44e7-ab5f-a9be810684e6"
      },
      "execution_count": 5,
      "outputs": [
        {
          "output_type": "stream",
          "name": "stdout",
          "text": [
            "Berikut kata-kata unik yang terdapat pada file teks artikel:\n",
            "1. barian\n",
            "2. polifenol\n",
            "3. antioksidan\n",
            "4. sangat\n",
            "5. kuat\n",
            "6. berkhasiat\n",
            "7. melancarkan\n",
            "8. sistem\n",
            "9. kardiovaskular\n",
            "10. serta\n",
            "11. mencegah\n",
            "12. berbagai\n",
            "13. penyakit\n",
            "14. alzheimer\n",
            "15. pecinta\n",
            "16. pneumonia\n",
            "17. darah\n",
            "18. manfaat\n",
            "19. menyehatkan\n",
            "20. yaitu\n",
            "21. membantu\n",
            "22. menghindari\n",
            "23. sebuah\n",
            "24. telah\n",
            "25. dilakukan\n",
            "26. melalui\n",
            "27. terhadap\n",
            "28. sekitar\n",
            "29. orang\n",
            "30. jepang\n",
            "31. berusia\n",
            "32. tahun\n",
            "33. ke\n",
            "34. atas\n",
            "35. setelah\n",
            "36. mempelajari\n",
            "37. kuesioner\n",
            "38. mengenai\n",
            "39. minuman\n",
            "40. mereka\n",
            "41. minum\n",
            "42. dirasakan\n",
            "43. peserta\n",
            "44. adalah\n",
            "45. penderita\n",
            "46. menunjukkan\n",
            "47. peminum\n",
            "48. dengan\n",
            "49. depresi\n",
            "50. moderat\n",
            "51. ini\n",
            "52. menguatkan\n",
            "53. hasil\n",
            "54. sebelumnya\n",
            "55. oleh\n",
            "56. unilever\n",
            "57. menyebut\n",
            "58. l-theanine\n",
            "59. efek\n",
            "60. relaksasi\n",
            "61. pada\n",
            "62. otak\n"
          ]
        }
      ]
    }
  ]
}