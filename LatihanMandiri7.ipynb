{
  "nbformat": 4,
  "nbformat_minor": 0,
  "metadata": {
    "colab": {
      "provenance": []
    },
    "kernelspec": {
      "name": "python3",
      "display_name": "Python 3"
    },
    "language_info": {
      "name": "python"
    }
  },
  "cells": [
    {
      "cell_type": "code",
      "execution_count": 2,
      "metadata": {
        "colab": {
          "base_uri": "https://localhost:8080/"
        },
        "id": "FS5QcmFW7aPr",
        "outputId": "e4dcf767-3cc9-421c-fd45-47c6983a96d2"
      },
      "outputs": [
        {
          "output_type": "stream",
          "name": "stdout",
          "text": [
            "Masukkan nilai n: 19\n",
            "17\n"
          ]
        }
      ],
      "source": [
        "n = int(input(\"Masukkan nilai n: \"))\n",
        "if n <= 2:\n",
        "    print(\"nilai n harus lebih dari 2\")\n",
        "def cek_prima(x):\n",
        "    for i in range(2, int(n**0.5) + 1):\n",
        "        if x%i ==0:\n",
        "            return False\n",
        "    return True\n",
        "for i in range(n-1,1,-1):\n",
        "    if cek_prima(i):\n",
        "        print(i)\n",
        "        break"
      ]
    },
    {
      "cell_type": "code",
      "source": [
        "n = int(input(\"Masukkan nilai n: \"))\n",
        "for i in range(n,0,-1):\n",
        "    faktorial = 1\n",
        "    for k in range(i,0,-1):\n",
        "        faktorial *= k\n",
        "    print(faktorial, end=\" \")\n",
        "    for j in range(i, 0, -1):\n",
        "        print(j, end=\" \")\n",
        "    print()"
      ],
      "metadata": {
        "colab": {
          "base_uri": "https://localhost:8080/"
        },
        "id": "lBiWS7jh7u_W",
        "outputId": "7d64f404-4b28-44ca-a826-facd43d508fe"
      },
      "execution_count": 3,
      "outputs": [
        {
          "output_type": "stream",
          "name": "stdout",
          "text": [
            "Masukkan nilai n: 6\n",
            "720 6 5 4 3 2 1 \n",
            "120 5 4 3 2 1 \n",
            "24 4 3 2 1 \n",
            "6 3 2 1 \n",
            "2 2 1 \n",
            "1 1 \n"
          ]
        }
      ]
    },
    {
      "cell_type": "code",
      "source": [
        "tinggi = int(input(\"Masukkan nilai tinggi: \"))\n",
        "lebar = int(input(\"Masukkan nilai lebar: \"))\n",
        "angka = 1\n",
        "for i in range(1, tinggi+1):\n",
        "    for j in range(1, lebar+1):\n",
        "        print(angka, end=\" \")\n",
        "        angka +=1\n",
        "    print()"
      ],
      "metadata": {
        "colab": {
          "base_uri": "https://localhost:8080/"
        },
        "id": "4YTjx27472TQ",
        "outputId": "d29f0f8c-b879-41d0-a643-bd9a7e971827"
      },
      "execution_count": 4,
      "outputs": [
        {
          "output_type": "stream",
          "name": "stdout",
          "text": [
            "Masukkan nilai tinggi: 5\n",
            "Masukkan nilai lebar: 4\n",
            "1 2 3 4 \n",
            "5 6 7 8 \n",
            "9 10 11 12 \n",
            "13 14 15 16 \n",
            "17 18 19 20 \n"
          ]
        }
      ]
    }
  ]
}