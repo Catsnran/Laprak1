{
  "nbformat": 4,
  "nbformat_minor": 0,
  "metadata": {
    "colab": {
      "provenance": []
    },
    "kernelspec": {
      "name": "python3",
      "display_name": "Python 3"
    },
    "language_info": {
      "name": "python"
    }
  },
  "cells": [
    {
      "cell_type": "code",
      "execution_count": 1,
      "metadata": {
        "colab": {
          "base_uri": "https://localhost:8080/"
        },
        "id": "Hh8Ij17kwt1x",
        "outputId": "692d6a7e-9d03-41ba-d5f8-9332ca59be9a"
      },
      "outputs": [
        {
          "output_type": "stream",
          "name": "stdout",
          "text": [
            "True\n",
            "False\n"
          ]
        }
      ],
      "source": [
        "def cek(data):\n",
        "    lista=[]\n",
        "    for i in data:\n",
        "        if i not in lista:\n",
        "            lista.append(i)\n",
        "    if  len(lista) == 1:\n",
        "        print(True)\n",
        "    else:\n",
        "        print(False)\n",
        "\n",
        "cek((90, 90, 90, 90))\n",
        "cek((80, 90, 70, 80))"
      ]
    },
    {
      "cell_type": "code",
      "source": [
        "def datadiri(data):\n",
        "    print(f\"NIM    : {data[1]}\")\n",
        "    print(f\"NAMA   : {data[0]}\")\n",
        "    print(f\"ALAMAT : {data[2]}\")\n",
        "    print()\n",
        "    print(f\"NIM: {tuple(data[1])}\")\n",
        "    print()\n",
        "    nama = data[0].split(\" \")\n",
        "    print(f\"NAMA DEPAN: {tuple(nama[0])}\")\n",
        "    print()\n",
        "    nama.reverse()\n",
        "    print(f\"NAMA TERBALIK: {tuple(nama)}\")\n",
        "\n",
        "datadiri( ('Matahari Bhakti Nendya', '22064091', 'Bantul, DI Yogyakarta'))"
      ],
      "metadata": {
        "colab": {
          "base_uri": "https://localhost:8080/"
        },
        "id": "OVpOCJeW0CX4",
        "outputId": "38a25c6f-44b5-4030-dd61-9183c02637b3"
      },
      "execution_count": 2,
      "outputs": [
        {
          "output_type": "stream",
          "name": "stdout",
          "text": [
            "NIM    : 22064091\n",
            "NAMA   : Matahari Bhakti Nendya\n",
            "ALAMAT : Bantul, DI Yogyakarta\n",
            "\n",
            "NIM: ('2', '2', '0', '6', '4', '0', '9', '1')\n",
            "\n",
            "NAMA DEPAN: ('M', 'a', 't', 'a', 'h', 'a', 'r', 'i')\n",
            "\n",
            "NAMA TERBALIK: ('Nendya', 'Bhakti', 'Matahari')\n"
          ]
        }
      ]
    },
    {
      "cell_type": "code",
      "source": [
        "import re\n",
        "file = input(\"Masukkan nama file: \")\n",
        "with open(file) as handle:\n",
        "    jam = dict()\n",
        "    for line in handle:\n",
        "        if line.startswith('From '):\n",
        "            nemu = re.findall(r'\\d\\d:\\d\\d:\\d\\d', line)\n",
        "            if nemu:\n",
        "                hour = nemu[0].split(\":\")[0]\n",
        "                jam[hour] = jam.get(hour, 0) + 1\n",
        "for k in sorted(jam):\n",
        "    print(k, jam[k])"
      ],
      "metadata": {
        "colab": {
          "base_uri": "https://localhost:8080/"
        },
        "id": "nu1f_xjY0I2M",
        "outputId": "77086658-0548-4fb1-e89f-27a8f773bcc2"
      },
      "execution_count": 4,
      "outputs": [
        {
          "output_type": "stream",
          "name": "stdout",
          "text": [
            "Masukkan nama file: /content/mbox-short.txt\n",
            "04 3\n",
            "06 1\n",
            "07 1\n",
            "09 2\n",
            "10 3\n",
            "11 6\n",
            "14 1\n",
            "15 2\n",
            "16 4\n",
            "17 2\n",
            "18 1\n",
            "19 1\n"
          ]
        }
      ]
    }
  ]
}