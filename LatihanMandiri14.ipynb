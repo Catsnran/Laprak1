{
  "nbformat": 4,
  "nbformat_minor": 0,
  "metadata": {
    "colab": {
      "provenance": []
    },
    "kernelspec": {
      "name": "python3",
      "display_name": "Python 3"
    },
    "language_info": {
      "name": "python"
    }
  },
  "cells": [
    {
      "cell_type": "code",
      "execution_count": 1,
      "metadata": {
        "colab": {
          "base_uri": "https://localhost:8080/"
        },
        "id": "3h85yVyws79t",
        "outputId": "5b290f4c-9bfe-448a-fe7a-0141079b7475"
      },
      "outputs": [
        {
          "output_type": "stream",
          "name": "stdout",
          "text": [
            "True\n",
            "False\n",
            "False\n",
            "True\n"
          ]
        }
      ],
      "source": [
        "def cekprima(angka, pembagi=2):\n",
        "    if angka < 2:\n",
        "        return False\n",
        "    if pembagi**2 > angka:\n",
        "        return True\n",
        "    if angka % pembagi == 0:\n",
        "        return False\n",
        "    return cekprima(angka, pembagi +1)\n",
        "\n",
        "print(cekprima(7))\n",
        "print(cekprima(16))\n",
        "print(cekprima(517))\n",
        "print(cekprima(383))"
      ]
    },
    {
      "cell_type": "code",
      "source": [
        "def cekpalindrom(kalimat):\n",
        "    kalimat = kalimat.replace(\" \", \"\").lower()\n",
        "    if len(kalimat) <= 1:\n",
        "        return True\n",
        "    if kalimat[0] != kalimat[-1]:\n",
        "        return False\n",
        "    return cekpalindrom(kalimat[1:-1])\n",
        "\n",
        "print(cekpalindrom(\"katak katak\"))\n",
        "print(cekpalindrom(\"kayak katak\"))"
      ],
      "metadata": {
        "colab": {
          "base_uri": "https://localhost:8080/"
        },
        "id": "thKPKfOgtPPp",
        "outputId": "6e47ada7-b250-4108-b5e6-af13b7737079"
      },
      "execution_count": 2,
      "outputs": [
        {
          "output_type": "stream",
          "name": "stdout",
          "text": [
            "True\n",
            "False\n"
          ]
        }
      ]
    },
    {
      "cell_type": "code",
      "source": [
        "def deretganjil(n):\n",
        "    if n<1:\n",
        "        return 0\n",
        "    if n % 2 == 0:\n",
        "        return deretganjil(n-1)\n",
        "    else:\n",
        "        return n + deretganjil(n-2)\n",
        "\n",
        "print(deretganjil(20))\n",
        "print(deretganjil(11))"
      ],
      "metadata": {
        "colab": {
          "base_uri": "https://localhost:8080/"
        },
        "id": "mUejbUQYtRd8",
        "outputId": "d4a476f5-e969-43f6-9068-7c9fc1856190"
      },
      "execution_count": 3,
      "outputs": [
        {
          "output_type": "stream",
          "name": "stdout",
          "text": [
            "100\n",
            "36\n"
          ]
        }
      ]
    },
    {
      "cell_type": "code",
      "source": [
        "def jumlahDigit(digit):\n",
        "    if digit < 10:\n",
        "        return digit\n",
        "    else:\n",
        "        return (digit%10)+ jumlahDigit(digit//10)\n",
        "\n",
        "print(jumlahDigit(234))\n",
        "print(jumlahDigit(7))\n",
        "print(jumlahDigit(486))"
      ],
      "metadata": {
        "colab": {
          "base_uri": "https://localhost:8080/"
        },
        "id": "cRjcXlpMtT35",
        "outputId": "00acc8a4-7b15-4548-a9d9-48b1628e5d37"
      },
      "execution_count": 4,
      "outputs": [
        {
          "output_type": "stream",
          "name": "stdout",
          "text": [
            "9\n",
            "7\n",
            "18\n"
          ]
        }
      ]
    },
    {
      "cell_type": "code",
      "source": [
        "def kombinasi(n, r):\n",
        "    if r == 0 or r == n:\n",
        "        return 1\n",
        "    return kombinasi(n-1, r-1) + kombinasi (n-1, r)\n",
        "\n",
        "print(kombinasi(4,2))\n",
        "print(kombinasi(5,3))"
      ],
      "metadata": {
        "colab": {
          "base_uri": "https://localhost:8080/"
        },
        "id": "v1nOfUrYtWO1",
        "outputId": "5cbd8178-a2b4-4ec4-eb91-d09e9d057991"
      },
      "execution_count": 5,
      "outputs": [
        {
          "output_type": "stream",
          "name": "stdout",
          "text": [
            "6\n",
            "10\n"
          ]
        }
      ]
    }
  ]
}