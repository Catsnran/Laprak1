{
  "nbformat": 4,
  "nbformat_minor": 0,
  "metadata": {
    "colab": {
      "provenance": []
    },
    "kernelspec": {
      "name": "python3",
      "display_name": "Python 3"
    },
    "language_info": {
      "name": "python"
    }
  },
  "cells": [
    {
      "cell_type": "code",
      "execution_count": 1,
      "metadata": {
        "colab": {
          "base_uri": "https://localhost:8080/"
        },
        "id": "gbykqm1oDR2M",
        "outputId": "14a066d9-8a88-4355-a059-18695f9f5c28"
      },
      "outputs": [
        {
          "output_type": "stream",
          "name": "stdout",
          "text": [
            "key    value    item\n",
            "1       10       1\n",
            "2       20       2\n",
            "3       30       3\n",
            "4       40       4\n",
            "5       50       5\n",
            "6       60       6\n"
          ]
        }
      ],
      "source": [
        "def dapat_nilai(dict):\n",
        "    print(f\"key    value    item\")\n",
        "    for i in dict:\n",
        "        print(f\"{i}       {dict[i]}       {i}\")\n",
        "\n",
        "dapat_nilai({1: 10, 2: 20, 3: 30, 4: 40, 5: 50, 6: 60})"
      ]
    },
    {
      "cell_type": "code",
      "source": [
        "def gabung_list(Lista,Listb):\n",
        "    dict={}\n",
        "    for i in range(len(Lista)):\n",
        "        dict[Lista[i]] = Listb[i]\n",
        "    print(dict)\n",
        "\n",
        "gabung_list(['red', 'green', 'blue'],['#FF0000','#008000', '#0000FF'])"
      ],
      "metadata": {
        "colab": {
          "base_uri": "https://localhost:8080/"
        },
        "id": "dOYhzG_NDmbd",
        "outputId": "f553c0f8-74f0-49df-c462-2e20a50057e9"
      },
      "execution_count": 2,
      "outputs": [
        {
          "output_type": "stream",
          "name": "stdout",
          "text": [
            "{'red': '#FF0000', 'green': '#008000', 'blue': '#0000FF'}\n"
          ]
        }
      ]
    },
    {
      "cell_type": "code",
      "source": [
        "nama_file = input(\"Masukkan nama file : \")\n",
        "try:\n",
        "    dicti = {}\n",
        "    with open(nama_file, \"r\") as file:\n",
        "        for line in file:\n",
        "            if line.startswith(\"From \"):\n",
        "                kata = line.split()\n",
        "                email = kata[1]\n",
        "                dicti[email] = dicti.get(email, 0) + 1\n",
        "        print(dicti)\n",
        "except FileNotFoundError:\n",
        "    print(\"File tidak ditemukan\")\n"
      ],
      "metadata": {
        "colab": {
          "base_uri": "https://localhost:8080/"
        },
        "id": "Q_cZ14HUDtxs",
        "outputId": "ebbe810d-0955-434f-bb79-ad5bdab01a50"
      },
      "execution_count": 3,
      "outputs": [
        {
          "output_type": "stream",
          "name": "stdout",
          "text": [
            "Masukkan nama file : /content/mbox-short.txt\n",
            "{'stephen.marquard@uct.ac.za': 2, 'louis@media.berkeley.edu': 3, 'zqian@umich.edu': 4, 'rjlowe@iupui.edu': 2, 'cwen@iupui.edu': 5, 'gsilver@umich.edu': 3, 'wagnermr@iupui.edu': 1, 'antranig@caret.cam.ac.uk': 1, 'gopal.ramasammycook@gmail.com': 1, 'david.horwitz@uct.ac.za': 4, 'ray@media.berkeley.edu': 1}\n"
          ]
        }
      ]
    },
    {
      "cell_type": "code",
      "source": [
        "nama_file = input(\"Masukkan nama file : \")\n",
        "try:\n",
        "    dicti = {}\n",
        "    with open(nama_file, \"r\") as file:\n",
        "        for line in file:\n",
        "            if line.startswith(\"From \"):\n",
        "                kata = line.split()\n",
        "                email = kata[1]\n",
        "                domain = email.split('@')[1]\n",
        "                dicti[domain] = dicti.get(domain, 0) + 1\n",
        "        print(dicti)\n",
        "except FileNotFoundError:\n",
        "    print(\"File tidak ditemukan\")"
      ],
      "metadata": {
        "colab": {
          "base_uri": "https://localhost:8080/"
        },
        "id": "hy-nw_uSD2v9",
        "outputId": "7ee2adfc-5cb1-496b-de0b-6d869689306f"
      },
      "execution_count": 4,
      "outputs": [
        {
          "output_type": "stream",
          "name": "stdout",
          "text": [
            "Masukkan nama file : /content/mbox-short.txt\n",
            "{'uct.ac.za': 6, 'media.berkeley.edu': 4, 'umich.edu': 7, 'iupui.edu': 8, 'caret.cam.ac.uk': 1, 'gmail.com': 1}\n"
          ]
        }
      ]
    }
  ]
}