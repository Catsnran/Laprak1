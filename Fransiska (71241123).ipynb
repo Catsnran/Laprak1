{
 "cells": [
  {
   "cell_type": "code",
   "execution_count": 5,
   "id": "66bacb1d-1262-400d-8984-88b2bb9cd3c0",
   "metadata": {},
   "outputs": [
    {
     "name": "stdout",
     "output_type": "stream",
     "text": [
      "Keuntungan yang didapat Gerard adalah Rp. 875000 atau 5.38 %\n",
      "Keuntungan yang didapat Gerard setelah membeli lagi 15 gr emas adalah Rp. 2075000 atau 7.82 %\n"
     ]
    }
   ],
   "source": [
    "#Latihan 2\n",
    "harga_awal_gram = 650000\n",
    "emas_gerard_awal = 25\n",
    "harga_skrg_gram = 685000\n",
    "total_harga_awal = harga_awal_gram * emas_gerard_awal\n",
    "total_harga_skrg = harga_skrg_gram * emas_gerard_awal\n",
    "keuntungan_rupiah = total_harga_skrg - total_harga_awal\n",
    "keuntungan_persen = (keuntungan_rupiah/total_harga_awal)*100\n",
    "print('Keuntungan yang didapat Gerard adalah Rp.', keuntungan_rupiah, 'atau', f\"{keuntungan_persen:.2f}\", '%')\n",
    "total_emas_baru = 15 * harga_skrg_gram\n",
    "harga_baru_gram = 715000\n",
    "keuntungan_rupiah_baru = (harga_baru_gram*40)-(total_harga_awal+total_emas_baru)\n",
    "keuntungan_persen_baru = (keuntungan_rupiah_baru/(total_harga_awal+total_emas_baru))*100\n",
    "print('Keuntungan yang didapat Gerard setelah membeli lagi 15 gr emas adalah Rp.', keuntungan_rupiah_baru, 'atau', f\"{keuntungan_persen_baru:.2f}\", '%')"
   ]
  },
  {
   "cell_type": "code",
   "execution_count": 4,
   "id": "9decb9f5-46b9-4474-a9d6-ac0b8a38d857",
   "metadata": {},
   "outputs": [
    {
     "name": "stdout",
     "output_type": "stream",
     "text": [
      "Waktu yang dibutuhkan Erika untuk mendapatkan Rp. 428717762 adalah 8 tahun\n"
     ]
    }
   ],
   "source": [
    "#Latihan 3\n",
    "uang_awal = 200000000\n",
    "bunga = 0.1\n",
    "uang_target = 400000000\n",
    "n = 1\n",
    "tahun_hitung = 0\n",
    "\n",
    "while uang_awal <= uang_target:\n",
    "    tahun_hitung +=1\n",
    "    uang_dihitung = uang_awal * (1 + (bunga/n))\n",
    "    uang_tambah_per_tahun = uang_dihitung - uang_awal\n",
    "    uang_awal += uang_tambah_per_tahun\n",
    "print('Waktu yang dibutuhkan Erika untuk mendapatkan Rp.', round(uang_dihitung), 'adalah', tahun_hitung, 'tahun')"
   ]
  },
  {
   "cell_type": "code",
   "execution_count": null,
   "id": "e7776efb-0626-4b5a-bcd6-61d9df756758",
   "metadata": {},
   "outputs": [],
   "source": []
  },
  {
   "cell_type": "code",
   "execution_count": null,
   "id": "e994e313-8012-43a0-95b9-63507b0f4a4f",
   "metadata": {},
   "outputs": [],
   "source": []
  }
 ],
 "metadata": {
  "kernelspec": {
   "display_name": "Python 3 (ipykernel)",
   "language": "python",
   "name": "python3"
  },
  "language_info": {
   "codemirror_mode": {
    "name": "ipython",
    "version": 3
   },
   "file_extension": ".py",
   "mimetype": "text/x-python",
   "name": "python",
   "nbconvert_exporter": "python",
   "pygments_lexer": "ipython3",
   "version": "3.12.7"
  }
 },
 "nbformat": 4,
 "nbformat_minor": 5
}
