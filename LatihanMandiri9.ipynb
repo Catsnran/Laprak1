{
  "nbformat": 4,
  "nbformat_minor": 0,
  "metadata": {
    "colab": {
      "provenance": []
    },
    "kernelspec": {
      "name": "python3",
      "display_name": "Python 3"
    },
    "language_info": {
      "name": "python"
    }
  },
  "cells": [
    {
      "cell_type": "code",
      "execution_count": 1,
      "metadata": {
        "colab": {
          "base_uri": "https://localhost:8080/"
        },
        "id": "XD8OfF-WZDuj",
        "outputId": "378ac20f-0fa9-4340-8dd4-0bdbe5a54235"
      },
      "outputs": [
        {
          "output_type": "stream",
          "name": "stdout",
          "text": [
            "Terdapat perbedaan pada baris ke-1 yaitu:\n",
            "file 1: Dungeon Meshi\n",
            "file 2: Dungeon meshi\n",
            "Terdapat perbedaan pada baris ke-2 yaitu:\n",
            "file 1: The Apothecary Diaries\n",
            "file 2: The Apothecary Diary\n",
            "Terdapat perbedaan pada baris ke-3 yaitu:\n",
            "file 1: Campfire Cooking in Another World with My Absurd Skill\n",
            "file 2: \n",
            "Terdapat perbedaan pada baris ke-4 yaitu:\n",
            "file 1: Dr Stone\n",
            "file 2: Dr. Stone\n",
            "Terdapat perbedaan pada baris ke-6 yaitu:\n",
            "file 1: Signal\n",
            "file 2: Kingdom\n",
            "Terdapat perbedaan pada baris ke-8 yaitu:\n",
            "file 1: Chief Detective 1958\n",
            "file 2: Flex x Cop\n"
          ]
        }
      ],
      "source": [
        "def banding(file1, file2):\n",
        "    with open(file1, \"r\") as file:\n",
        "        lines1 = file.readlines()\n",
        "    with open(file2, \"r\") as file:\n",
        "        lines2 = file.readlines()\n",
        "    lenmax = max(len(lines1), len(lines2))\n",
        "    for i in range(lenmax):\n",
        "        if i < len(lines1):\n",
        "            line1 = lines1[i].strip()\n",
        "        else:\n",
        "            line1 = \"\"\n",
        "        if i < len(lines2):\n",
        "            line2 = lines2[i].strip()\n",
        "        else:\n",
        "            line2 = \"\"\n",
        "        if line1 != line2:\n",
        "            print(f\"Terdapat perbedaan pada baris ke-{i+1} yaitu:\")\n",
        "            print(f\"file 1: {line1}\")\n",
        "            print(f\"file 2: {line2}\")\n",
        "\n",
        "banding(\"/content/file1.txt\", \"/content/file2.txt\")"
      ]
    },
    {
      "cell_type": "code",
      "source": [
        "with open(\"/content/soal.txt\",\"r\") as file:\n",
        "    for line in file:\n",
        "        soaljawab=line.strip().split(\"||\")\n",
        "        soal = soaljawab[0].strip()\n",
        "        jawaban = soaljawab[1].strip().lower()\n",
        "        jawabanuser = input(f\"{soal}\\nJawab: \").lower()\n",
        "        if str(jawabanuser) == str(jawaban):\n",
        "            print(f\"Jawaban benar!\")\n",
        "        else:\n",
        "            print(f\"Jawaban salah!\")"
      ],
      "metadata": {
        "colab": {
          "base_uri": "https://localhost:8080/"
        },
        "id": "SsPuwND2juY_",
        "outputId": "ba30a7d1-9f27-4dad-d275-8d96406b6152"
      },
      "execution_count": 2,
      "outputs": [
        {
          "output_type": "stream",
          "name": "stdout",
          "text": [
            "1+1 =\n",
            "Jawab: 2\n",
            "Jawaban benar!\n",
            "Bendera Indonesia?\n",
            "Jawab: merah putih\n",
            "Jawaban benar!\n",
            "Kota gudeg adalah:\n",
            "Jawab: jogja\n",
            "Jawaban salah!\n",
            "Komponen PC untuk penyimpanan file adalah...\n",
            "Jawab: HARDDISK\n",
            "Jawaban benar!\n",
            "50 * 20 =\n",
            "Jawab: 100\n",
            "Jawaban salah!\n"
          ]
        }
      ]
    }
  ]
}